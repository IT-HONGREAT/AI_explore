{
 "cells": [
  {
   "cell_type": "code",
   "execution_count": null,
   "metadata": {
    "id": "fou4FR7caF8e"
   },
   "outputs": [],
   "source": [
    "import tensorflow as tf\n",
    "import os \n",
    "import pandas as pd \n",
    "import numpy as np\n",
    "import os\n",
    "\n",
    "import matplotlib.pyplot as plt\n",
    "from PIL import Image\n",
    "\n",
    "def list_dir(path):\n",
    "    filenames = os.listdir(path)\n",
    "    filenames.sort()\n",
    "    return filenames\n",
    "\n",
    "def load_image_pixels(imagepath, resolution):\n",
    "    img         = Image.open(imagepath)\n",
    "    img_resized = img.resize(resolution)\n",
    "    return np.array(img_resized)\n",
    "\n",
    "def onehot(idxs,cnt):\n",
    "    return np.eye(cnt)[idxs]\n",
    "\n",
    "resolution  = [100,100]\n",
    "\n",
    "def flowers_init(resolution):\n",
    "    path = 'dataset/flowers/'\n",
    "    target_names = list_dir(path)\n",
    "\n",
    "    images = []\n",
    "    idxs   = []\n",
    "\n",
    "    for dx, dname in enumerate(target_names):\n",
    "        print(\"dname :\", dname)\n",
    "        subpath = path + '/' + dname\n",
    "        print(\"subpath :\", subpath)\n",
    "        filenames = list_dir(subpath)\n",
    "        print(\"filenames :\\n\", filenames[:3])\n",
    "\n",
    "        for fname in filenames:\n",
    "            if fname[-4:] != '.jpg':\n",
    "                continue\n",
    "            imagepath = os.path.join(subpath, fname)\n",
    "            #print(\"imagepath : \", imagepath)\n",
    "            pixels = load_image_pixels(imagepath, resolution)\n",
    "            images.append(pixels)\n",
    "            idxs.append(dx)\n",
    "\n",
    "    xs = np.asarray(images, dtype = np.float32)           \n",
    "    ys = onehot(idxs = idxs, cnt = len(target_names))\n",
    "    \n",
    "    return xs, ys   "
   ]
  }
 ],
 "metadata": {
  "colab": {
   "collapsed_sections": [],
   "name": "flowers_init.ipynb",
   "provenance": []
  },
  "kernelspec": {
   "display_name": "Python 3",
   "language": "python",
   "name": "python3"
  },
  "language_info": {
   "codemirror_mode": {
    "name": "ipython",
    "version": 3
   },
   "file_extension": ".py",
   "mimetype": "text/x-python",
   "name": "python",
   "nbconvert_exporter": "python",
   "pygments_lexer": "ipython3",
   "version": "3.8.10"
  }
 },
 "nbformat": 4,
 "nbformat_minor": 4
}
